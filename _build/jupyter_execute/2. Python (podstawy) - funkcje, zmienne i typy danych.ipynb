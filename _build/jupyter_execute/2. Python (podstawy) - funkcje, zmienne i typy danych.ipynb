{
 "cells": [
  {
   "cell_type": "markdown",
   "id": "ea6556e6",
   "metadata": {},
   "source": [
    "# 2. Python - funkcje, zmienne i typy danych\n",
    "\n",
    "Rozpoczynamy od podstaw Pythona.\n",
    "\n",
    "Najpierw jednak musicie wiedzieć, że Python jest <b> językiem obiektowym </b> to znaczy, że nastawiony jest pisanie kodu w stylu, w którym rzeczywistość reprezentujemy jako <b> obiekty </b>. Z założenia mają one reprezentować elementy świata rzeczywistego.\n",
    "\n",
    "<b> Na przykład </b>:\n",
    "\n",
    "Jeśli piszemy kod obsługujący konta bankowe w banku, stworzymy <b> obiekty które reprezentują konta bankowe </b> i które będą miały własne cechy jak:\n",
    "    \n",
    "    saldo\n",
    "    nazwa klienta\n",
    "    ...\n",
    "\n",
    "\n",
    "Na tym wprowadzeniu tego jeszcze nie zaprezentujemy, jednakże warto o tym pamiętać. Zwłaszcza, gdy będziecie Państwo kontynuować naukę we własnym zakresie."
   ]
  },
  {
   "cell_type": "markdown",
   "id": "4a689d44",
   "metadata": {},
   "source": [
    "# Deklaracja zmiennej"
   ]
  },
  {
   "cell_type": "code",
   "execution_count": 1,
   "id": "88023b8b",
   "metadata": {},
   "outputs": [
    {
     "ename": "SyntaxError",
     "evalue": "invalid syntax (3306000817.py, line 1)",
     "output_type": "error",
     "traceback": [
      "\u001b[1;36m  Input \u001b[1;32mIn [1]\u001b[1;36m\u001b[0m\n\u001b[1;33m    x =\u001b[0m\n\u001b[1;37m        ^\u001b[0m\n\u001b[1;31mSyntaxError\u001b[0m\u001b[1;31m:\u001b[0m invalid syntax\n"
     ]
    }
   ],
   "source": [
    "x = "
   ]
  },
  {
   "cell_type": "markdown",
   "id": "e6797635",
   "metadata": {},
   "source": [
    "Sprawdźmy co znajduje się pod x:"
   ]
  },
  {
   "cell_type": "code",
   "execution_count": null,
   "id": "a3f4e6a4",
   "metadata": {},
   "outputs": [],
   "source": []
  },
  {
   "cell_type": "markdown",
   "id": "56799659",
   "metadata": {},
   "source": [
    "Teraz zmieńmy tę wartość na coś innego:"
   ]
  },
  {
   "cell_type": "code",
   "execution_count": null,
   "id": "af0c0086",
   "metadata": {},
   "outputs": [],
   "source": [
    "x ="
   ]
  },
  {
   "cell_type": "markdown",
   "id": "e3005db7",
   "metadata": {},
   "source": [
    "Sprawdźmy wartość:"
   ]
  },
  {
   "cell_type": "code",
   "execution_count": null,
   "id": "a088ff3e",
   "metadata": {},
   "outputs": [],
   "source": []
  },
  {
   "cell_type": "markdown",
   "id": "624548d1",
   "metadata": {},
   "source": [
    "## Funkcje oraz Metody\n",
    "\n",
    "Funkcje i metody to fragmenty kodu (zapisane gdzieś w innym miejscu), które mają jakąś funkcjonalność, tzn. wykonują ten kod w tle dla nas by dostarczyć konkretny wynik.\n",
    "\n",
    "Żeby wywołać funkcję, należy wykonać poniższą operację\n",
    "\n",
    "<i><b>nazwa</b>(parametr_1,parametr_2,...,parametr_n)</i>\n",
    "\n",
    "Wyróżniamy <b>funkcje wbudowane</b> i <b> funkcje zdefiniowane przez użytkownika</b>.\n",
    "\n",
    "Funkcje wbudowane są dostepne poprzez wywołanie ich nazwy wprost w kodzie (dostępne tu: https://docs.python.org/2/library/functions.html).\n",
    "\n",
    "Inne funkcje możemy importować poprzez biblioteki programistyczne - rozszerzenia kodu.\n",
    "\n",
    "Istnieją również funkcje definiowane przez użytkownika, dzięki którym możemy tworzyć własne funkcjonalności"
   ]
  },
  {
   "cell_type": "markdown",
   "id": "b2ef1aab",
   "metadata": {},
   "source": [
    "## Pierwsza funkcja\n",
    "\n",
    "Pierwszą funkcją którą użyjemy będzie print(), jest to funkcja służąca do wyświetalnia <b> reprezentacji </b> obiektu"
   ]
  },
  {
   "cell_type": "code",
   "execution_count": null,
   "id": "fd29027c",
   "metadata": {},
   "outputs": [],
   "source": [
    "print(x)"
   ]
  },
  {
   "cell_type": "markdown",
   "id": "f1cbc0fe",
   "metadata": {},
   "source": [
    "### Funkcje wbudowane\n",
    "\n",
    "Funkcje wbudowane to funkcje, które są dostępne od razu, gdy tylko rozpoczniemy pisanie kodu. Zwykle są to podstawowe funkcjonalności, które muszą zawsze być pod ręką. Ich lista znajduje się tutaj: https://docs.python.org/3/library/functions.html"
   ]
  },
  {
   "cell_type": "markdown",
   "id": "c9592c7e",
   "metadata": {},
   "source": [
    "# Typy zmiennych\n",
    "\n",
    "To są typy wbudowane - klasy wbudowane\n",
    "\n",
    "Liczby\n",
    "    \n",
    "    Całkowite\n",
    "    Zmiennoprzecinkowe\n",
    "\n",
    "Inne typy:\n",
    "\n",
    "    Typ tekstowy\n",
    "    Typ logiczny\n",
    "\n"
   ]
  },
  {
   "cell_type": "markdown",
   "id": "445dd18c",
   "metadata": {},
   "source": [
    "<b> Liczba całkowita </b> (int)"
   ]
  },
  {
   "cell_type": "code",
   "execution_count": null,
   "id": "38fa7cd7",
   "metadata": {},
   "outputs": [],
   "source": [
    "x = 3"
   ]
  },
  {
   "cell_type": "markdown",
   "id": "82f2b40c",
   "metadata": {},
   "source": [
    "## Druga funkcja"
   ]
  },
  {
   "cell_type": "code",
   "execution_count": null,
   "id": "e667484e",
   "metadata": {},
   "outputs": [],
   "source": [
    "type(x)"
   ]
  },
  {
   "cell_type": "markdown",
   "id": "495ca625",
   "metadata": {},
   "source": [
    "<b> Zmiennoprzecinkowa </b> (float)"
   ]
  },
  {
   "cell_type": "code",
   "execution_count": null,
   "id": "e35e524e",
   "metadata": {},
   "outputs": [],
   "source": [
    "x = 2.2"
   ]
  },
  {
   "cell_type": "markdown",
   "id": "3a73ab87",
   "metadata": {},
   "source": [
    "<b> Tekst </b> (str)"
   ]
  },
  {
   "cell_type": "code",
   "execution_count": null,
   "id": "a86bed63",
   "metadata": {},
   "outputs": [],
   "source": [
    "x = \"\""
   ]
  },
  {
   "cell_type": "markdown",
   "id": "1ffef5f6",
   "metadata": {},
   "source": [
    "<b> Typ logiczny</b> (bool)"
   ]
  },
  {
   "cell_type": "code",
   "execution_count": null,
   "id": "86d8b13a",
   "metadata": {
    "scrolled": true
   },
   "outputs": [],
   "source": [
    "x = False"
   ]
  },
  {
   "cell_type": "markdown",
   "id": "5c88bdf7",
   "metadata": {},
   "source": [
    "<h1> Rzutowanie typów </h1>\n",
    "To zmiana typu danej na inną.\n",
    "\n",
    "Do tego wykorzystujemy funkcji wbudowanych, które mają taką samą nazwę jak typ zmiennej w Pythonie\n",
    "\n",
    "Sprawdźmy najpierw typ zmiennych używając funkcji wbudowanej type()"
   ]
  },
  {
   "cell_type": "markdown",
   "id": "cc49aaba",
   "metadata": {},
   "source": [
    "Liczba całkowita"
   ]
  },
  {
   "cell_type": "code",
   "execution_count": null,
   "id": "060ecf56",
   "metadata": {
    "scrolled": true
   },
   "outputs": [],
   "source": [
    "print(type(2))"
   ]
  },
  {
   "cell_type": "markdown",
   "id": "a56723b5",
   "metadata": {},
   "source": [
    "Liczba zmiennoprzecinkowa"
   ]
  },
  {
   "cell_type": "code",
   "execution_count": null,
   "id": "4b0b69c9",
   "metadata": {},
   "outputs": [],
   "source": [
    "print(type(3.4))"
   ]
  },
  {
   "cell_type": "markdown",
   "id": "03012638",
   "metadata": {},
   "source": [
    "Liczba złożona"
   ]
  },
  {
   "cell_type": "code",
   "execution_count": null,
   "id": "ced37ab4",
   "metadata": {},
   "outputs": [],
   "source": [
    "print(type(3j))"
   ]
  },
  {
   "cell_type": "markdown",
   "id": "c1bbb423",
   "metadata": {},
   "source": [
    "Tekst"
   ]
  },
  {
   "cell_type": "code",
   "execution_count": null,
   "id": "9c9d2323",
   "metadata": {},
   "outputs": [],
   "source": [
    "print(type(\"Tekst\"))"
   ]
  },
  {
   "cell_type": "markdown",
   "id": "d6a880dd",
   "metadata": {},
   "source": [
    "Typ logiczny"
   ]
  },
  {
   "cell_type": "code",
   "execution_count": null,
   "id": "80dde040",
   "metadata": {},
   "outputs": [],
   "source": [
    "print(type(False))"
   ]
  },
  {
   "cell_type": "markdown",
   "id": "1ed7fb41",
   "metadata": {},
   "source": [
    "Oczywiście możemy sprawdzać tak typ zmiennej:"
   ]
  },
  {
   "cell_type": "code",
   "execution_count": null,
   "id": "9bd2cb45",
   "metadata": {},
   "outputs": [],
   "source": [
    "x = 3.14\n",
    "print(type(x))"
   ]
  },
  {
   "cell_type": "markdown",
   "id": "d6190f09",
   "metadata": {},
   "source": [
    "Rzutowanie typów zatem odbywa się wprost:"
   ]
  },
  {
   "cell_type": "code",
   "execution_count": null,
   "id": "f9f10936",
   "metadata": {},
   "outputs": [],
   "source": [
    "x = 3.88\n",
    "print(int(x))"
   ]
  },
  {
   "cell_type": "markdown",
   "id": "d2f02b16",
   "metadata": {},
   "source": [
    "Ale zwróćmy uwagę, że:"
   ]
  },
  {
   "cell_type": "code",
   "execution_count": null,
   "id": "b23286b3",
   "metadata": {},
   "outputs": [],
   "source": [
    "x = 3.88\n",
    "int(x)\n",
    "print(x)"
   ]
  },
  {
   "cell_type": "code",
   "execution_count": null,
   "id": "59ed25ec",
   "metadata": {},
   "outputs": [],
   "source": [
    "x = 3.88\n",
    "x = int(x) #PAMIĘTAJ O ZAPISANIU DO ZMIENNEJ\n",
    "print(x)"
   ]
  },
  {
   "cell_type": "markdown",
   "id": "6597b9f0",
   "metadata": {},
   "source": [
    "Rzutowanie tekstu:"
   ]
  },
  {
   "cell_type": "code",
   "execution_count": null,
   "id": "57f15942",
   "metadata": {},
   "outputs": [],
   "source": [
    "print(str(122))"
   ]
  },
  {
   "cell_type": "markdown",
   "id": "2e67242c",
   "metadata": {},
   "source": [
    "## Pytanie:\n",
    "Rzutowanie na typ logiczny:\n",
    "\n",
    "Co zwróci rzutowanie zera na typ logiczny?"
   ]
  },
  {
   "cell_type": "code",
   "execution_count": null,
   "id": "520a5e4b",
   "metadata": {},
   "outputs": [],
   "source": [
    "print(bool(0))"
   ]
  },
  {
   "cell_type": "code",
   "execution_count": null,
   "id": "0a039701",
   "metadata": {},
   "outputs": [],
   "source": [
    "print(bool(1))"
   ]
  },
  {
   "cell_type": "code",
   "execution_count": null,
   "id": "e701d39c",
   "metadata": {},
   "outputs": [],
   "source": [
    "print(bool(-3))"
   ]
  },
  {
   "cell_type": "markdown",
   "id": "d358de67",
   "metadata": {
    "slideshow": {
     "slide_type": "slide"
    }
   },
   "source": [
    "<h1>Operatory binarne</h1>\n",
    "\n",
    "Podstawowe operacje są zdefiniowane w Pythonie bez potrzeby korzystania z zewnętrznych bibliotek\n",
    "\n",
    "-----------------\n",
    "\n",
    "    a + b\n",
    "    a - b\n",
    "    a * b\n",
    "    a / b\n",
    "    a // b (usuwa część po przecinku - floor-divide)\n",
    "    a ** b\n",
    "    a % b"
   ]
  },
  {
   "cell_type": "markdown",
   "id": "ffa9a828",
   "metadata": {},
   "source": [
    "Suma typów liczbowych"
   ]
  },
  {
   "cell_type": "code",
   "execution_count": null,
   "id": "0527962c",
   "metadata": {},
   "outputs": [],
   "source": []
  },
  {
   "cell_type": "code",
   "execution_count": null,
   "id": "dfb6e7fe",
   "metadata": {},
   "outputs": [],
   "source": []
  },
  {
   "cell_type": "markdown",
   "id": "acb05a0c",
   "metadata": {},
   "source": [
    "Różnica typów liczbowych"
   ]
  },
  {
   "cell_type": "code",
   "execution_count": null,
   "id": "743a1178",
   "metadata": {},
   "outputs": [],
   "source": []
  },
  {
   "cell_type": "code",
   "execution_count": null,
   "id": "2cad5f98",
   "metadata": {},
   "outputs": [],
   "source": []
  },
  {
   "cell_type": "markdown",
   "id": "7afc9ef1",
   "metadata": {},
   "source": [
    "Mnożenie typów liczbowych"
   ]
  },
  {
   "cell_type": "code",
   "execution_count": null,
   "id": "16a13fdc",
   "metadata": {},
   "outputs": [],
   "source": []
  },
  {
   "cell_type": "code",
   "execution_count": null,
   "id": "93231e6b",
   "metadata": {},
   "outputs": [],
   "source": []
  },
  {
   "cell_type": "markdown",
   "id": "fd04d44c",
   "metadata": {},
   "source": [
    "Dzielenie typów liczbowych"
   ]
  },
  {
   "cell_type": "code",
   "execution_count": null,
   "id": "ace0842e",
   "metadata": {},
   "outputs": [],
   "source": []
  },
  {
   "cell_type": "code",
   "execution_count": null,
   "id": "896c0613",
   "metadata": {},
   "outputs": [],
   "source": []
  },
  {
   "cell_type": "markdown",
   "id": "a90325f2",
   "metadata": {},
   "source": [
    "Floor-divide"
   ]
  },
  {
   "cell_type": "code",
   "execution_count": null,
   "id": "0e9b31a8",
   "metadata": {},
   "outputs": [],
   "source": []
  },
  {
   "cell_type": "code",
   "execution_count": null,
   "id": "b82d1073",
   "metadata": {},
   "outputs": [],
   "source": []
  },
  {
   "cell_type": "markdown",
   "id": "d82a0ce4",
   "metadata": {},
   "source": [
    "**"
   ]
  },
  {
   "cell_type": "code",
   "execution_count": null,
   "id": "5a251853",
   "metadata": {},
   "outputs": [],
   "source": []
  },
  {
   "cell_type": "markdown",
   "id": "44c33ddb",
   "metadata": {},
   "source": [
    "Modulo"
   ]
  },
  {
   "cell_type": "code",
   "execution_count": null,
   "id": "8295d614",
   "metadata": {},
   "outputs": [],
   "source": []
  },
  {
   "cell_type": "markdown",
   "id": "017b87b3",
   "metadata": {},
   "source": [
    "Operatory binarne na tekście"
   ]
  },
  {
   "cell_type": "code",
   "execution_count": null,
   "id": "80e235b5",
   "metadata": {},
   "outputs": [],
   "source": []
  },
  {
   "cell_type": "markdown",
   "id": "c4eff210",
   "metadata": {},
   "source": [
    "### Ćwiczenie:\n",
    "\n",
    "Jak sprawdzić czy 528 jest podzielne przez 3?"
   ]
  },
  {
   "cell_type": "code",
   "execution_count": null,
   "id": "e94a7665",
   "metadata": {},
   "outputs": [],
   "source": []
  },
  {
   "cell_type": "markdown",
   "id": "bb34f4a0",
   "metadata": {},
   "source": [
    "### Ćwiczenie:\n",
    "Używając tylko opeartorów binarnych na tekście osiągnij poniższy wzorzec używając symboli sym1 i sym2\n",
    "\n",
    "    **__**"
   ]
  },
  {
   "cell_type": "code",
   "execution_count": null,
   "id": "e1658c8f",
   "metadata": {
    "scrolled": true
   },
   "outputs": [],
   "source": [
    "p = \"_\"\n",
    "g = \"*\""
   ]
  },
  {
   "cell_type": "code",
   "execution_count": null,
   "id": "d159f07d",
   "metadata": {},
   "outputs": [],
   "source": []
  },
  {
   "cell_type": "markdown",
   "id": "282fca53",
   "metadata": {},
   "source": [
    "### Operatory logiczne\n",
    "\n",
    "    a == b\n",
    "    a != b\n",
    "    a <= b; a < b\n",
    "    a is b\n",
    "    a is not b"
   ]
  },
  {
   "cell_type": "markdown",
   "id": "bb460572",
   "metadata": {},
   "source": [
    "Równość"
   ]
  },
  {
   "cell_type": "code",
   "execution_count": null,
   "id": "096e54ef",
   "metadata": {},
   "outputs": [],
   "source": []
  },
  {
   "cell_type": "markdown",
   "id": "b739da04",
   "metadata": {},
   "source": [
    "Nierówność"
   ]
  },
  {
   "cell_type": "code",
   "execution_count": null,
   "id": "e4c7ad20",
   "metadata": {},
   "outputs": [],
   "source": []
  },
  {
   "cell_type": "code",
   "execution_count": null,
   "id": "6a1e33bf",
   "metadata": {},
   "outputs": [],
   "source": []
  },
  {
   "cell_type": "code",
   "execution_count": null,
   "id": "9f0560d3",
   "metadata": {},
   "outputs": [],
   "source": []
  },
  {
   "cell_type": "markdown",
   "id": "12ff4cef",
   "metadata": {},
   "source": [
    "### Ćwiczenie:\n",
    "Jeszcze raz, sprawdźmy czy 528 jest podzielne przez 3. Tym razem wynikiem ma być True lub False"
   ]
  },
  {
   "cell_type": "code",
   "execution_count": null,
   "id": "06b5227d",
   "metadata": {},
   "outputs": [],
   "source": []
  },
  {
   "cell_type": "markdown",
   "id": "7e26348a",
   "metadata": {},
   "source": [
    "### Ćwiczenie:\n",
    "\n",
    "Sprawdźmy nierówność z dwiema zmiennymi zawierającymi znaki tekstowe. Spróbujmy wykorzystać duże i małe litery oraz znaki specjalne. Jakie są wnioski?"
   ]
  },
  {
   "cell_type": "code",
   "execution_count": null,
   "id": "1a660832",
   "metadata": {},
   "outputs": [],
   "source": []
  },
  {
   "cell_type": "markdown",
   "id": "880c612f",
   "metadata": {
    "slideshow": {
     "slide_type": "slide"
    }
   },
   "source": [
    "<h1> Błędy </h1>\n",
    "\n",
    "Gdy pojawi się w kodzie błąd, warto spojrzeć na to co go spowodowało, by znaleźć przyczynę"
   ]
  },
  {
   "cell_type": "code",
   "execution_count": null,
   "id": "30a53dcd",
   "metadata": {},
   "outputs": [],
   "source": [
    "\"A\" * \"B\""
   ]
  },
  {
   "cell_type": "markdown",
   "id": "d87dc6dd",
   "metadata": {
    "slideshow": {
     "slide_type": "slide"
    }
   },
   "source": [
    "<h1> Importowanie bibliotek </h1>\n",
    "\n",
    "Biblioteki zawierają dodatkowe funkcjonalności, klasy i typy danych.\n",
    "Biblioteki można importować na 3 sposoby:"
   ]
  },
  {
   "cell_type": "markdown",
   "id": "100100fe",
   "metadata": {},
   "source": [
    "Cała biblioteka"
   ]
  },
  {
   "cell_type": "code",
   "execution_count": null,
   "id": "5c93fbdb",
   "metadata": {},
   "outputs": [],
   "source": []
  },
  {
   "cell_type": "markdown",
   "id": "50be6a0c",
   "metadata": {},
   "source": [
    "Wszystkie funkcje"
   ]
  },
  {
   "cell_type": "code",
   "execution_count": null,
   "id": "f616f4d8",
   "metadata": {},
   "outputs": [],
   "source": []
  },
  {
   "cell_type": "markdown",
   "id": "91f7ea4c",
   "metadata": {},
   "source": [
    "Jedna funkcja z biblioteki"
   ]
  },
  {
   "cell_type": "code",
   "execution_count": null,
   "id": "f0342db7",
   "metadata": {},
   "outputs": [],
   "source": []
  },
  {
   "cell_type": "markdown",
   "id": "e986bdea",
   "metadata": {},
   "source": [
    "## Ćwiczenie\n",
    "Zaimportujmy pierwiastek z biblioteki math"
   ]
  },
  {
   "cell_type": "code",
   "execution_count": null,
   "id": "a1391c3c",
   "metadata": {
    "scrolled": true
   },
   "outputs": [],
   "source": []
  },
  {
   "cell_type": "markdown",
   "id": "2f577ff5",
   "metadata": {},
   "source": [
    "### Gdy używamy nowej, nieznanej nam biblioteki - kluczowe jest poznanie jej dokumentacji\n",
    "\n",
    "Dokumentacja bilbioteki math: https://docs.python.org/2/library/math.html"
   ]
  },
  {
   "cell_type": "code",
   "execution_count": null,
   "id": "d8c85462",
   "metadata": {},
   "outputs": [],
   "source": []
  },
  {
   "cell_type": "markdown",
   "id": "6a2b4381",
   "metadata": {},
   "source": [
    "### Jak sprwadzić czy potrzebną nam funkcjonalność już ktoś kiedyś napisał?\n",
    "\n",
    "Najlepiej użyć wyszukiwarki wpisując słowa kluczowe:\n",
    "\n",
    "<i> Nazwa naszej funkcjnalności </i> + \"Python\"\n",
    "\n",
    "ewentualnie możemy dopisać \"library\", żeby być pewnym że wyniki zwrócą nam bibliotekę"
   ]
  },
  {
   "cell_type": "markdown",
   "id": "06e29aa7",
   "metadata": {},
   "source": [
    "# Komentowanie kodu\n",
    "\n",
    "* Komentujemy z wykorzystaniem pełnych zdań\n",
    "* Upewnij się, że komentarz jest zrozumiały dla każdego, kto kiedykolwiek miałby przeczytać kod"
   ]
  },
  {
   "cell_type": "markdown",
   "id": "d2f5378d",
   "metadata": {},
   "source": [
    "## Komentarze blokowe\n",
    "\n",
    "Wplatane za pomocą znaku \"#\" na tym samym poziomie, do którego się odnoszą np:"
   ]
  },
  {
   "cell_type": "code",
   "execution_count": null,
   "id": "ecf23513",
   "metadata": {},
   "outputs": [],
   "source": [
    "# komentarz blokowy\n",
    "\n",
    "a = 2\n",
    "b = 2\n",
    "a + b # dodajemy 2 do 2"
   ]
  },
  {
   "cell_type": "markdown",
   "id": "d44c2257",
   "metadata": {},
   "source": [
    "### Komentarze \"docstring\"\n",
    "\n",
    "Wpisywane za pomocą potrójnego cudzysłowu (\"\"\"), używane do dokumentowania funkcji i klas"
   ]
  },
  {
   "cell_type": "code",
   "execution_count": null,
   "id": "7441ebe4",
   "metadata": {},
   "outputs": [],
   "source": [
    "# Przykład funkcji z komentarzem docstring\n",
    "def funkcja(parametr1, parametr2):\n",
    "    \"\"\"Komentarz opisujący funkcję\n",
    "    Opis parametrów\n",
    "    Opis wyjścia\n",
    "    \"\"\""
   ]
  }
 ],
 "metadata": {
  "kernelspec": {
   "display_name": "Python 3 (ipykernel)",
   "language": "python",
   "name": "python3"
  },
  "language_info": {
   "codemirror_mode": {
    "name": "ipython",
    "version": 3
   },
   "file_extension": ".py",
   "mimetype": "text/x-python",
   "name": "python",
   "nbconvert_exporter": "python",
   "pygments_lexer": "ipython3",
   "version": "3.9.12"
  }
 },
 "nbformat": 4,
 "nbformat_minor": 5
}