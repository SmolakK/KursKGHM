{
 "cells": [
  {
   "cell_type": "markdown",
   "id": "955eef7e",
   "metadata": {},
   "source": [
    "# 3. Python - złożone typy danych"
   ]
  },
  {
   "cell_type": "markdown",
   "id": "c73f6e36",
   "metadata": {},
   "source": [
    "### Złożone typy danych\n",
    "\n",
    "Złożone typy danych to takie, które składają się z typów podstawowych - wbudowanych, czyli takie, które mogą zostać rozłożone na prostsze czynniki.\n",
    "\n",
    "------\n",
    "Pierwszy złożony typ danych już poznaliśmy, był to....\n",
    "\n",
    "\n",
    "### Tekst (str)"
   ]
  },
  {
   "cell_type": "code",
   "execution_count": 1,
   "id": "e6cb5d50",
   "metadata": {},
   "outputs": [],
   "source": [
    "tekst1 = 'T' # tylko jeden znak\n",
    "tekst2 = 'Tekst' # kilka znaków - złożony typ danych"
   ]
  },
  {
   "cell_type": "markdown",
   "id": "e2a96280",
   "metadata": {},
   "source": [
    "Istotną funkcjonalnością złożonych typów danych jest ich indeksowanie\n",
    "\n",
    "Indeksowanie pozwala na pobranie wartości obiektu złożonego - ze znaków, z wartości lub z innych obiektów.\n",
    "\n",
    "<b>Indeks w Pythonie liczymy od zera</b>"
   ]
  },
  {
   "cell_type": "code",
   "execution_count": 2,
   "id": "dd2e239e",
   "metadata": {},
   "outputs": [],
   "source": [
    "s = \"Język Python\""
   ]
  },
  {
   "cell_type": "code",
   "execution_count": 3,
   "id": "690bc26a",
   "metadata": {},
   "outputs": [
    {
     "name": "stdout",
     "output_type": "stream",
     "text": [
      " \n"
     ]
    }
   ],
   "source": [
    "print(s[5])"
   ]
  },
  {
   "cell_type": "markdown",
   "id": "764f0b85",
   "metadata": {},
   "source": [
    "### Ćwiczenie:\n",
    "Spróbujmy wybrać taki indeks, żeby otrzymać literę 'h'"
   ]
  },
  {
   "cell_type": "code",
   "execution_count": 5,
   "id": "f74ec1a1",
   "metadata": {},
   "outputs": [
    {
     "data": {
      "text/plain": [
       "'h'"
      ]
     },
     "execution_count": 5,
     "metadata": {},
     "output_type": "execute_result"
    }
   ],
   "source": []
  },
  {
   "cell_type": "markdown",
   "id": "dfb54ca2",
   "metadata": {},
   "source": [
    "##### Indeksy ujemne\n",
    "Co pozwalają uzyskać indeksy ujemne?"
   ]
  },
  {
   "cell_type": "code",
   "execution_count": null,
   "id": "256f65ad",
   "metadata": {},
   "outputs": [],
   "source": []
  },
  {
   "cell_type": "markdown",
   "id": "4399785f",
   "metadata": {},
   "source": [
    "<b> Indeksowanie działa jedynie na typach złożonych </b>"
   ]
  },
  {
   "cell_type": "code",
   "execution_count": 4,
   "id": "3828c5c9",
   "metadata": {},
   "outputs": [
    {
     "ename": "TypeError",
     "evalue": "'int' object is not subscriptable",
     "output_type": "error",
     "traceback": [
      "\u001b[1;31m---------------------------------------------------------------------------\u001b[0m",
      "\u001b[1;31mTypeError\u001b[0m                                 Traceback (most recent call last)",
      "Input \u001b[1;32mIn [4]\u001b[0m, in \u001b[0;36m<cell line: 2>\u001b[1;34m()\u001b[0m\n\u001b[0;32m      1\u001b[0m a \u001b[38;5;241m=\u001b[39m \u001b[38;5;241m232\u001b[39m\n\u001b[1;32m----> 2\u001b[0m \u001b[43ma\u001b[49m\u001b[43m[\u001b[49m\u001b[38;5;241;43m0\u001b[39;49m\u001b[43m]\u001b[49m\n",
      "\u001b[1;31mTypeError\u001b[0m: 'int' object is not subscriptable"
     ]
    }
   ],
   "source": [
    "a = 232\n",
    "a[0]"
   ]
  },
  {
   "cell_type": "markdown",
   "id": "2835dcb9",
   "metadata": {},
   "source": [
    "<h2> Wycinki </h2>\n",
    "Podobnie do indeksowania pozyskują wartości, z tą różnicą że pobieramy wybrany fragment"
   ]
  },
  {
   "cell_type": "code",
   "execution_count": 6,
   "id": "d2ef21ee",
   "metadata": {},
   "outputs": [
    {
     "name": "stdout",
     "output_type": "stream",
     "text": [
      "Język\n"
     ]
    }
   ],
   "source": [
    "s = \"Język Python\"\n",
    "print(s[0:5])"
   ]
  },
  {
   "cell_type": "markdown",
   "id": "3fadb50e",
   "metadata": {},
   "source": [
    "Warianty stosowania wycinków:"
   ]
  },
  {
   "cell_type": "code",
   "execution_count": null,
   "id": "cd11240e",
   "metadata": {},
   "outputs": [],
   "source": []
  },
  {
   "cell_type": "code",
   "execution_count": null,
   "id": "04f01e8b",
   "metadata": {},
   "outputs": [],
   "source": []
  },
  {
   "cell_type": "code",
   "execution_count": null,
   "id": "a6277cfb",
   "metadata": {},
   "outputs": [],
   "source": []
  },
  {
   "cell_type": "markdown",
   "id": "09a414a4",
   "metadata": {},
   "source": [
    "### Ćwiczenie:\n",
    "\n",
    "Skoro już wiemy jak działają wycinki, co zwróci operacja \n",
    "    \n",
    "    s[::2]\n",
    "?"
   ]
  },
  {
   "cell_type": "code",
   "execution_count": 8,
   "id": "da73b257",
   "metadata": {},
   "outputs": [
    {
     "data": {
      "text/plain": [
       "'ęy yhn'"
      ]
     },
     "execution_count": 8,
     "metadata": {},
     "output_type": "execute_result"
    }
   ],
   "source": []
  },
  {
   "cell_type": "markdown",
   "id": "dc505c38",
   "metadata": {},
   "source": [
    "# Inne typy złożone dostępne w Pythonie\n",
    "\n",
    "Python oferuje wiele dodatkowych typów danych złożonych, zwłaszcza za pośrednictwem bibliotek.\n",
    "\n",
    "Kilka z nich jest jednak wbudowane w język i są bardzo użyteczne, a ich znajomość ułatwia pracę. Są to:\n",
    "<ul>\n",
    "    <li>Listy</li>\n",
    "    <li>Słowniki</li>\n",
    "    <li>Krotka</li>\n",
    "    <li>Zbiór</li>\n",
    "</ul>\n",
    "\n",
    "<h2>Listy</h2>\n",
    "Pozwalają przechowywać wiele elementów, <b>dowolnego</b> typu, są modyfikowalne i zachowują kolejność elementów\n",
    "Definiuje się je przez []\n",
    "Python oferuje wiele dodatkowych typów danych złożonych, zwłaszcza za pośrednictwem bibliotek.\n",
    "\n",
    "Kilka z nich jest jednak wbudowane w język i są bardzo użyteczne, a ich znajomość ułatwia pracę. Są to:\n",
    "<ul>\n",
    "    <li>Listy</li>\n",
    "    <li>Słowniki</li>\n",
    "    <li>Krotka</li>\n",
    "    <li>Zbiór</li>\n",
    "</ul>\n",
    "\n",
    "## Listy\n",
    "Pozwalają przechowywać wiele elementów, <b>dowolnego</b> typu, są modyfikowalne i zachowują kolejność elementów\n",
    "Definiuje się je przez []"
   ]
  },
  {
   "cell_type": "code",
   "execution_count": null,
   "id": "9a4013c0",
   "metadata": {},
   "outputs": [],
   "source": []
  },
  {
   "cell_type": "markdown",
   "id": "353f6305",
   "metadata": {},
   "source": [
    "Sprawdźmy typ zmiennej lista:"
   ]
  },
  {
   "cell_type": "code",
   "execution_count": null,
   "id": "b0541b6d",
   "metadata": {},
   "outputs": [],
   "source": []
  },
  {
   "cell_type": "markdown",
   "id": "f0878f23",
   "metadata": {},
   "source": [
    "Listy mogą zwierać różne type danych:"
   ]
  },
  {
   "cell_type": "code",
   "execution_count": null,
   "id": "84455f6d",
   "metadata": {},
   "outputs": [],
   "source": []
  },
  {
   "cell_type": "markdown",
   "id": "b4719fc6",
   "metadata": {},
   "source": [
    "Nawet... inne listy"
   ]
  },
  {
   "cell_type": "code",
   "execution_count": null,
   "id": "6752454c",
   "metadata": {},
   "outputs": [],
   "source": []
  },
  {
   "cell_type": "markdown",
   "id": "7fb004ce",
   "metadata": {},
   "source": [
    "### Indeksowanie w listach"
   ]
  },
  {
   "cell_type": "code",
   "execution_count": null,
   "id": "2ed34f57",
   "metadata": {},
   "outputs": [],
   "source": []
  },
  {
   "cell_type": "markdown",
   "id": "d6691dc3",
   "metadata": {},
   "source": [
    "### Ćwiczenie\n",
    "\n",
    "Mając listę lista = ['A','B','C',['D','E']], za pomocą indeksów wybierz element 'D'."
   ]
  },
  {
   "cell_type": "code",
   "execution_count": null,
   "id": "ef2937ea",
   "metadata": {},
   "outputs": [],
   "source": []
  },
  {
   "cell_type": "markdown",
   "id": "6bc5eaee",
   "metadata": {},
   "source": [
    "### Modyfikacja listy - dodawanie i zmiana elementów\n",
    "\n",
    "#### Poprzez indeks:"
   ]
  },
  {
   "cell_type": "code",
   "execution_count": null,
   "id": "a67e4fa7",
   "metadata": {},
   "outputs": [],
   "source": []
  },
  {
   "cell_type": "markdown",
   "id": "1cef2ddf",
   "metadata": {},
   "source": [
    "\n",
    "#### Poprzez dodawanie na koniec listy:"
   ]
  },
  {
   "cell_type": "code",
   "execution_count": null,
   "id": "e312309d",
   "metadata": {},
   "outputs": [],
   "source": []
  },
  {
   "cell_type": "markdown",
   "id": "7a1139a0",
   "metadata": {},
   "source": [
    "## Krotki\n",
    "    Są jak listy...z tą różnicą że nie są modyfikowalne.\n",
    "    \n",
    "    Definiujemy je poprzez nawiasy ()"
   ]
  },
  {
   "cell_type": "code",
   "execution_count": null,
   "id": "2194da80",
   "metadata": {},
   "outputs": [],
   "source": []
  },
  {
   "cell_type": "code",
   "execution_count": null,
   "id": "03e99ee9",
   "metadata": {},
   "outputs": [],
   "source": []
  },
  {
   "cell_type": "markdown",
   "id": "da7c5cea",
   "metadata": {},
   "source": [
    "### Indeksowanie krotek"
   ]
  },
  {
   "cell_type": "code",
   "execution_count": null,
   "id": "a108b412",
   "metadata": {},
   "outputs": [],
   "source": []
  },
  {
   "cell_type": "markdown",
   "id": "f0225d3c",
   "metadata": {},
   "source": [
    "### Ćwiczenie:\n",
    "\n",
    "Spróbujmy wyświetlić krotkę od końca. Krotka to k = (1,2,3)."
   ]
  },
  {
   "cell_type": "code",
   "execution_count": 10,
   "id": "42a3e912",
   "metadata": {},
   "outputs": [
    {
     "data": {
      "text/plain": [
       "(3, 2, 1)"
      ]
     },
     "execution_count": 10,
     "metadata": {},
     "output_type": "execute_result"
    }
   ],
   "source": []
  },
  {
   "cell_type": "markdown",
   "id": "e446ba51",
   "metadata": {},
   "source": [
    "### Modyfikacja krotek"
   ]
  },
  {
   "cell_type": "markdown",
   "id": "90b38f79",
   "metadata": {},
   "source": [
    "## Zbiory\n",
    "Przechowują dane, są niemodyfikowalne, nie zachowują kolejności, przechowują tylko <b>unikalne</b> elementy, przechowuje dowolne elementy\n",
    "\n",
    "Definicja zbioru:"
   ]
  },
  {
   "cell_type": "code",
   "execution_count": null,
   "id": "8bd2817c",
   "metadata": {},
   "outputs": [],
   "source": []
  },
  {
   "cell_type": "code",
   "execution_count": null,
   "id": "43ed0ac6",
   "metadata": {},
   "outputs": [],
   "source": []
  },
  {
   "cell_type": "markdown",
   "id": "779a1f6c",
   "metadata": {},
   "source": [
    "Właściwość zbioru, która pozwala na wyświetalnie wyłącznie <b> unikalnych elementów </b>:"
   ]
  },
  {
   "cell_type": "code",
   "execution_count": null,
   "id": "e23aadd9",
   "metadata": {},
   "outputs": [],
   "source": []
  },
  {
   "cell_type": "markdown",
   "id": "f0e7764a",
   "metadata": {},
   "source": [
    "### Indeksowanie zbiorów"
   ]
  },
  {
   "cell_type": "code",
   "execution_count": null,
   "id": "3191d935",
   "metadata": {},
   "outputs": [],
   "source": []
  },
  {
   "cell_type": "markdown",
   "id": "ff2b27ad",
   "metadata": {},
   "source": [
    "### Modyfikowanie zbiorów"
   ]
  },
  {
   "cell_type": "code",
   "execution_count": null,
   "id": "5110bd92",
   "metadata": {},
   "outputs": [],
   "source": []
  },
  {
   "cell_type": "markdown",
   "id": "e85f558a",
   "metadata": {},
   "source": [
    "<h2>Słowniki</h2>\n",
    "Słowniki to jeden z najważniejszych typów wbudowanych Pythona. Opisuje on związek par wartość - klucz. \n",
    "Słownik nie zachowuje kolejności elementów. Definiuje się go za pomocą {}\n",
    "\n",
    "#### Definicja:"
   ]
  },
  {
   "cell_type": "code",
   "execution_count": null,
   "id": "e0ee50f6",
   "metadata": {},
   "outputs": [],
   "source": []
  },
  {
   "cell_type": "markdown",
   "id": "6301bb8e",
   "metadata": {},
   "source": [
    "### Indeksowanie "
   ]
  },
  {
   "cell_type": "code",
   "execution_count": null,
   "id": "52daf9f1",
   "metadata": {},
   "outputs": [],
   "source": []
  },
  {
   "cell_type": "markdown",
   "id": "da05b61f",
   "metadata": {},
   "source": [
    "### Ćwiczenie:\n",
    "Spróbuj określić dlaczego poniższy indeks zadziałał:"
   ]
  },
  {
   "cell_type": "code",
   "execution_count": 7,
   "id": "86721ff6",
   "metadata": {},
   "outputs": [
    {
     "name": "stdout",
     "output_type": "stream",
     "text": [
      "w\n"
     ]
    }
   ],
   "source": [
    "dict1 = {'klucz1': 2, 2: 'w'}\n",
    "print(dict1[2])"
   ]
  },
  {
   "cell_type": "markdown",
   "id": "67516217",
   "metadata": {},
   "source": [
    "<h3> Modyfikacje słownika </h3>\n",
    "\n",
    "Nadpisywanie"
   ]
  },
  {
   "cell_type": "code",
   "execution_count": null,
   "id": "6c37e893",
   "metadata": {},
   "outputs": [],
   "source": []
  },
  {
   "cell_type": "markdown",
   "id": "5a7eb11b",
   "metadata": {},
   "source": [
    "Dodawanie nowych wartości"
   ]
  },
  {
   "cell_type": "code",
   "execution_count": null,
   "id": "b1cb6cab",
   "metadata": {},
   "outputs": [],
   "source": []
  },
  {
   "cell_type": "markdown",
   "id": "b22bb0b8",
   "metadata": {},
   "source": [
    "## Funkcje wbudowane przydatne w pracy z typami złożonymi"
   ]
  },
  {
   "cell_type": "markdown",
   "id": "25abca49",
   "metadata": {},
   "source": [
    "## len()"
   ]
  },
  {
   "cell_type": "code",
   "execution_count": null,
   "id": "db1443e5",
   "metadata": {},
   "outputs": [],
   "source": []
  },
  {
   "cell_type": "markdown",
   "id": "3bcbab0c",
   "metadata": {},
   "source": [
    "#### Ćwiczenie:\n",
    "Co zwraca len() dla słowników?"
   ]
  },
  {
   "cell_type": "code",
   "execution_count": null,
   "id": "dc5d875f",
   "metadata": {},
   "outputs": [],
   "source": []
  },
  {
   "cell_type": "markdown",
   "id": "3d256dc2",
   "metadata": {},
   "source": [
    "## max()"
   ]
  },
  {
   "cell_type": "code",
   "execution_count": null,
   "id": "7a31897c",
   "metadata": {},
   "outputs": [],
   "source": []
  },
  {
   "cell_type": "markdown",
   "id": "be191943",
   "metadata": {},
   "source": [
    "## min()"
   ]
  },
  {
   "cell_type": "code",
   "execution_count": null,
   "id": "b3050d92",
   "metadata": {},
   "outputs": [],
   "source": []
  },
  {
   "cell_type": "markdown",
   "id": "c1abf900",
   "metadata": {},
   "source": [
    "### Ćwiczenie:\n",
    "Co zwróci polecenie\n",
    "    \n",
    "    max(\"zero\")\n"
   ]
  },
  {
   "cell_type": "markdown",
   "id": "d391ec92",
   "metadata": {},
   "source": [
    "### Ćwiczenie:\n",
    "\n",
    "Jakie elementy języka Python możemy użyć by określić liczbę unikalnych elementów w liście? Przykładowa lista:\n",
    "\n",
    "lista = [1,2,3,1,2,3,3,2,1,0,-1]\n"
   ]
  },
  {
   "cell_type": "markdown",
   "id": "5ea1c42f",
   "metadata": {},
   "source": [
    "### Ćwiczenie:\n",
    "Co zwróci polecenie\n",
    "    \n",
    "    min(\"Rok 2024\")\n"
   ]
  }
 ],
 "metadata": {
  "kernelspec": {
   "display_name": "Python 3 (ipykernel)",
   "language": "python",
   "name": "python3"
  },
  "language_info": {
   "codemirror_mode": {
    "name": "ipython",
    "version": 3
   },
   "file_extension": ".py",
   "mimetype": "text/x-python",
   "name": "python",
   "nbconvert_exporter": "python",
   "pygments_lexer": "ipython3",
   "version": "3.9.12"
  }
 },
 "nbformat": 4,
 "nbformat_minor": 5
}