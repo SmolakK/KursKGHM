{
 "cells": [
  {
   "cell_type": "markdown",
   "id": "4287e333",
   "metadata": {},
   "source": [
    "# 4. Python (podstawy) - Kontrola przepływu"
   ]
  },
  {
   "cell_type": "markdown",
   "id": "946e01f0",
   "metadata": {},
   "source": [
    "Często spotkamy się z potrzebą kontroli naszego kodu, kiedy to będziemy chcieli żeby:\n",
    "\n",
    "    Jakaś operacja wykonała się tylko wtedy kiedy tego oczekujemy\n",
    "    \n",
    "    LUB\n",
    "    \n",
    "    Jakaś operacja wykonała się wielokrotnie\n",
    "    \n",
    "    \n",
    "I do tego służą właśnie instrukcje kontroli przepływu, które teraz poznamy"
   ]
  },
  {
   "cell_type": "markdown",
   "id": "5605bce6",
   "metadata": {},
   "source": [
    "## Wcięcia\n",
    "\n",
    "Instrukcje kontroli przepływu wymagają od nas wykorzystania wcięć w kodzie. Wcięcia informują język, że kod wcięty jest <b> podrzędny </b> do kodu względem tego który jest ponad nim.\n",
    "\n",
    "Wcięcia składają się z 4 spacji (lub Tab), czyli taki kod, który zależny jest od tego, który w hierarchi znajduje się ponad nim.\n",
    "\n",
    "```\n",
    "kod nadrzędny\n",
    "    kod podrzędny\n",
    "````\n",
    "\n",
    "Możliwe jest wielopoziomowe zagnieżdżanie kodu:\n",
    "\n",
    "```\n",
    "kod nadrzędny\n",
    "    kod podrzędny_1stopien\n",
    "        kod podrzędny_2stopien\n",
    "````\n",
    "W powyższym przykładzie kod podrzędny 1 stopnia będzie nadrzędny względem kodu podrzędnego 2 stopnia.\n",
    "\n",
    "Wcięcia są bardzo ważną składową Pythona i dbają o porządek i łatwość czytania kodu. Są niezbędne w metodach kontroli przepływu danych.\n",
    "\n",
    "<b> Koniec wcięcia zwykle oznacza koniec wykonywanej instrukcji i zmienia sposób wykonywania kodu! </b>"
   ]
  },
  {
   "cell_type": "markdown",
   "id": "c0f08419",
   "metadata": {},
   "source": [
    "\n",
    "# Kontrola przepływu - if, elif, else\n",
    "\n",
    "Skoro już wiemy po co są wcięcia kodu, spójrzmy na <b> pierwszy </b> sposób kontroli przepływu.\n",
    "Instrukcje warunkowe if służą do kontroli przepływu poprzez narzucanie warunków na kod.\n",
    "\n",
    "\n",
    "if <i> warunek </i>:\n",
    "\n",
    "    rób coś\n",
    "elif <i> warunek </i>:\n",
    "\n",
    "    rób coś\n",
    "else:\n",
    "\n",
    "    rób coś"
   ]
  },
  {
   "cell_type": "markdown",
   "id": "7ae3aa08",
   "metadata": {},
   "source": [
    "#### Najprostsza konstrukcja\n",
    "\n",
    "<i> warunek </i> <b> musi </b> być zmienną o typie bool (typem logicznym)"
   ]
  },
  {
   "cell_type": "code",
   "execution_count": 1,
   "id": "b13b1757",
   "metadata": {},
   "outputs": [],
   "source": [
    "if False:\n",
    "    print(\"A\")"
   ]
  },
  {
   "cell_type": "code",
   "execution_count": 2,
   "id": "6487e4b7",
   "metadata": {},
   "outputs": [
    {
     "name": "stdout",
     "output_type": "stream",
     "text": [
      "B\n"
     ]
    }
   ],
   "source": [
    "if False:\n",
    "    print(\"A\")\n",
    "print(\"B\")"
   ]
  },
  {
   "cell_type": "code",
   "execution_count": 3,
   "id": "253c528f",
   "metadata": {},
   "outputs": [
    {
     "name": "stdout",
     "output_type": "stream",
     "text": [
      "A\n"
     ]
    }
   ],
   "source": [
    "if True:\n",
    "    print(\"A\")"
   ]
  },
  {
   "cell_type": "markdown",
   "id": "f0a7a69a",
   "metadata": {},
   "source": [
    "W warunku może być wstawione coś co zwróci typ logiczny:"
   ]
  },
  {
   "cell_type": "code",
   "execution_count": 4,
   "id": "43e1e577",
   "metadata": {},
   "outputs": [
    {
     "name": "stdout",
     "output_type": "stream",
     "text": [
      "A\n"
     ]
    }
   ],
   "source": [
    "if 2<3:\n",
    "    print(\"A\")"
   ]
  },
  {
   "cell_type": "markdown",
   "id": "8f95e32d",
   "metadata": {},
   "source": [
    "## Ćwiczenie:\n",
    "\n",
    "Czy poniższy kod zwróci literę \"A\"?"
   ]
  },
  {
   "cell_type": "code",
   "execution_count": 5,
   "id": "a01ab1ef",
   "metadata": {},
   "outputs": [
    {
     "name": "stdout",
     "output_type": "stream",
     "text": [
      "A\n"
     ]
    }
   ],
   "source": [
    "a = 2\n",
    "b = 3\n",
    "if a<b:\n",
    "    print(\"A\")"
   ]
  },
  {
   "cell_type": "markdown",
   "id": "c5d7734a",
   "metadata": {},
   "source": [
    "#### Wykorzystanie elif"
   ]
  },
  {
   "cell_type": "code",
   "execution_count": 6,
   "id": "2d8b42bc",
   "metadata": {},
   "outputs": [
    {
     "name": "stdout",
     "output_type": "stream",
     "text": [
      "dwa jest mniejsze od trzech\n"
     ]
    }
   ],
   "source": [
    "if 2>3:\n",
    "    print(\"dwa jest wieksze od trzech\")\n",
    "elif 2<3:\n",
    "    print(\"dwa jest mniejsze od trzech\")"
   ]
  },
  {
   "cell_type": "code",
   "execution_count": 7,
   "id": "52f2b451",
   "metadata": {},
   "outputs": [
    {
     "name": "stdout",
     "output_type": "stream",
     "text": [
      "IF\n"
     ]
    }
   ],
   "source": [
    "a = 2\n",
    "b = 3\n",
    "c = 4\n",
    "if b>a:\n",
    "    print(\"IF\")\n",
    "elif c>b:\n",
    "    print(\"ELIF\")"
   ]
  },
  {
   "cell_type": "code",
   "execution_count": 8,
   "id": "558b9eb9",
   "metadata": {},
   "outputs": [
    {
     "name": "stdout",
     "output_type": "stream",
     "text": [
      "IF\n",
      "ELIF\n"
     ]
    }
   ],
   "source": [
    "a = 2\n",
    "b = 3\n",
    "c = 4\n",
    "if b>a:\n",
    "    print(\"IF\")\n",
    "if c>b:\n",
    "    print(\"ELIF\")"
   ]
  },
  {
   "cell_type": "markdown",
   "id": "1b7dd79c",
   "metadata": {},
   "source": [
    "#### Pytanie: \n",
    "Jaka jest różnica między powyższymi operacjami?"
   ]
  },
  {
   "cell_type": "markdown",
   "id": "af0d715b",
   "metadata": {},
   "source": [
    "#### Wykorzystanie else\n",
    "\n",
    "Wykonuje się, gdy wszystkie inne powyższe warunki nie zostaną spełnione"
   ]
  },
  {
   "cell_type": "code",
   "execution_count": 9,
   "id": "1dd89ee9",
   "metadata": {},
   "outputs": [
    {
     "name": "stdout",
     "output_type": "stream",
     "text": [
      "Więc wykona się to\n"
     ]
    }
   ],
   "source": [
    "if \"a\" in \"Python\":\n",
    "    print(\"To się nie wykona\")\n",
    "elif \"b\" in \"Python\":\n",
    "    print(\"to też\")\n",
    "else:\n",
    "    print(\"Więc wykona się to\")"
   ]
  },
  {
   "cell_type": "code",
   "execution_count": 10,
   "id": "bedb1b86",
   "metadata": {},
   "outputs": [
    {
     "name": "stdout",
     "output_type": "stream",
     "text": [
      "Więc wykona się to\n"
     ]
    }
   ],
   "source": [
    "if \"a\" in \"Python\":\n",
    "    print(\"To się nie wykona\")\n",
    "elif \"b\" in \"Python\":\n",
    "    print(\"to też\")\n",
    "elif \"c\" in 'Python':\n",
    "    print('i to też')\n",
    "else:\n",
    "    print(\"Więc wykona się to\")"
   ]
  },
  {
   "cell_type": "markdown",
   "id": "7140af60",
   "metadata": {},
   "source": [
    "Zasady:\n",
    "    \n",
    "    każdy 'if' zaczyna nową instrukcję warunkową - jeden na instrukcję\n",
    "    'elif' może pojawić się wielokrotnie\n",
    "    'else' może być tylko jeden\n",
    "   "
   ]
  },
  {
   "cell_type": "markdown",
   "id": "253693dd",
   "metadata": {},
   "source": [
    "## Ćwiczenie\n",
    "\n",
    "Co zostanie zwrócone przez poniższą funkcję?\n",
    "\n",
    "    if 4>10:\n",
    "        print(\"A\")\n",
    "    elif 10%5 != 0:\n",
    "        print(\"B\")\n",
    "    elif 2**3 > 7:\n",
    "        print(\"C\")\n",
    "    elif 10>1:\n",
    "        print(\"D\")"
   ]
  },
  {
   "cell_type": "markdown",
   "id": "7414110d",
   "metadata": {},
   "source": [
    "## Ćwiczenie cz. 2\n",
    "\n",
    "Co zostanie zwrócone przez poniższą funkcję?\n",
    "\n",
    "    if 5//2 == 2.5:\n",
    "        print(\"A\")\n",
    "    else \"2\" + \"2\" == 4:\n",
    "        print(\"B\")\n",
    "    if len(set([1,2,3,1,2,3])) > 5:\n",
    "        print(\"C\")\n",
    "    elif False < 1:\n",
    "        print(\"D\")"
   ]
  },
  {
   "cell_type": "markdown",
   "id": "59dc4747",
   "metadata": {},
   "source": [
    "# Iteracje - pętla for i while (na sekwencjach)\n",
    "\n",
    "Kolejną instrukcją kontrolującą przepływ jest pętla. <b> Pozwala ona wykonać tę samą operację wielokrotnie </b>.\n",
    "\n",
    "Pętle tworzą tzw. iteratory, które iterują się przez sekwencję zwracając każdorazowo <b>kolejne</b> elementy. Mamy dwa wariatny pętli:\n",
    "    \n",
    "    for\n",
    "    while\n",
    "\n",
    "## Pętle for\n",
    "Jej konstrukcja jest nastepująca\n",
    "\n",
    "for <i>nazwa_iteratora</i> in <i>nazwa_sekwencji</i>:\n",
    "\n",
    "    rób coś\n",
    "    \n",
    "<b> Zwróć uwagę na wcięcie w składni </b>"
   ]
  },
  {
   "cell_type": "code",
   "execution_count": 11,
   "id": "9e73c106",
   "metadata": {},
   "outputs": [
    {
     "name": "stdout",
     "output_type": "stream",
     "text": [
      "P\n",
      "y\n",
      "t\n",
      "h\n",
      "o\n",
      "n\n"
     ]
    }
   ],
   "source": [
    "for i in \"Python\":\n",
    "    print(i)"
   ]
  },
  {
   "cell_type": "code",
   "execution_count": 12,
   "id": "37b34ed1",
   "metadata": {},
   "outputs": [
    {
     "name": "stdout",
     "output_type": "stream",
     "text": [
      "P\n",
      "a\n",
      "y\n",
      "a\n",
      "t\n",
      "a\n",
      "h\n",
      "a\n",
      "o\n",
      "a\n",
      "n\n",
      "a\n"
     ]
    }
   ],
   "source": [
    "tekst = \"Python\"\n",
    "for i in tekst:\n",
    "    print(i)\n",
    "    print(\"a\")"
   ]
  },
  {
   "cell_type": "code",
   "execution_count": 13,
   "id": "65a06f2d",
   "metadata": {
    "scrolled": true
   },
   "outputs": [
    {
     "name": "stdout",
     "output_type": "stream",
     "text": [
      "P\n",
      "y\n"
     ]
    }
   ],
   "source": [
    "tekst = \"Python\"\n",
    "for i in tekst[:2]:\n",
    "    print(i)"
   ]
  },
  {
   "cell_type": "markdown",
   "id": "7196a724",
   "metadata": {},
   "source": [
    "Wewnątrz pętli można wykonywać operacje:"
   ]
  },
  {
   "cell_type": "code",
   "execution_count": 14,
   "id": "3f7002a2",
   "metadata": {},
   "outputs": [
    {
     "name": "stdout",
     "output_type": "stream",
     "text": [
      "2\n",
      "3\n",
      "4\n",
      "5\n"
     ]
    }
   ],
   "source": [
    "for i in [1,2,3,4]:\n",
    "    print(i + 1)"
   ]
  },
  {
   "cell_type": "markdown",
   "id": "00ff7a05",
   "metadata": {},
   "source": [
    "#### Wszystko co nie jest wcięte jako kod podrzędny - wykonuje się po pętli"
   ]
  },
  {
   "cell_type": "code",
   "execution_count": 15,
   "id": "e9c9e273",
   "metadata": {},
   "outputs": [
    {
     "name": "stdout",
     "output_type": "stream",
     "text": [
      "2\n",
      "3\n",
      "4\n",
      "5\n",
      "TO WYKONA SIĘ PO PĘTLI\n"
     ]
    }
   ],
   "source": [
    "for i in [1,2,3,4]:\n",
    "    print(i + 1)\n",
    "print(\"TO WYKONA SIĘ PO PĘTLI\")"
   ]
  },
  {
   "cell_type": "code",
   "execution_count": 16,
   "id": "8a16c9e9",
   "metadata": {},
   "outputs": [
    {
     "name": "stdout",
     "output_type": "stream",
     "text": [
      "2\n",
      "TO WYKONA SIĘ WEWNĄTRZ PĘTLI\n",
      "3\n",
      "TO WYKONA SIĘ WEWNĄTRZ PĘTLI\n",
      "4\n",
      "TO WYKONA SIĘ WEWNĄTRZ PĘTLI\n",
      "5\n",
      "TO WYKONA SIĘ WEWNĄTRZ PĘTLI\n",
      "a to już na końcu\n"
     ]
    }
   ],
   "source": [
    "for i in [1,2,3,4]:\n",
    "    print(i + 1)\n",
    "    print(\"TO WYKONA SIĘ WEWNĄTRZ PĘTLI\")\n",
    "print('a to już na końcu')"
   ]
  },
  {
   "cell_type": "markdown",
   "id": "18b69719",
   "metadata": {},
   "source": [
    "Iterować w <b> for </b> możemy się po:\n",
    "    \n",
    "    typach sekwencyjnych - tekst, lista, krotka, zbiór, słownik\n",
    "    funkcji range()"
   ]
  },
  {
   "cell_type": "code",
   "execution_count": 17,
   "id": "76dc278a",
   "metadata": {},
   "outputs": [
    {
     "name": "stdout",
     "output_type": "stream",
     "text": [
      "1\n",
      "3\n",
      "5\n",
      "7\n",
      "9\n"
     ]
    }
   ],
   "source": [
    "for i in range(1,10,2):\n",
    "    print(i)"
   ]
  },
  {
   "cell_type": "code",
   "execution_count": 18,
   "id": "7f1a9ef5",
   "metadata": {},
   "outputs": [],
   "source": [
    "#lista"
   ]
  },
  {
   "cell_type": "code",
   "execution_count": 19,
   "id": "503f9b80",
   "metadata": {},
   "outputs": [],
   "source": [
    "#slownik"
   ]
  },
  {
   "cell_type": "markdown",
   "id": "bf1c85a6",
   "metadata": {},
   "source": [
    "### Przepływ danych w pętli for\n",
    "\n",
    "Pętla for wykonuje się N razy, gdzie N to długość sekwencji"
   ]
  },
  {
   "cell_type": "code",
   "execution_count": 20,
   "id": "371d7064",
   "metadata": {},
   "outputs": [
    {
     "name": "stdout",
     "output_type": "stream",
     "text": [
      "3\n",
      "3\n"
     ]
    }
   ],
   "source": [
    "licznik = 0\n",
    "for n in [1,2,3]:\n",
    "    licznik += 1 # to wyrażenie jest równe licznik = licznik + 1\n",
    "print(licznik)\n",
    "print(len([1,2,3]))"
   ]
  },
  {
   "cell_type": "markdown",
   "id": "190629fc",
   "metadata": {},
   "source": [
    "Iterator zmienia się <b> tylko </b> wewnątrz pętli"
   ]
  },
  {
   "cell_type": "code",
   "execution_count": 21,
   "id": "04a71b68",
   "metadata": {},
   "outputs": [
    {
     "name": "stdout",
     "output_type": "stream",
     "text": [
      "\n",
      "\n",
      "\n",
      "3\n"
     ]
    }
   ],
   "source": [
    "for n in [1,2,3]:\n",
    "    print('')\n",
    "print(n)"
   ]
  },
  {
   "cell_type": "markdown",
   "id": "c59b6b34",
   "metadata": {},
   "source": [
    "Operacje na iteratorze nie zmieniają wartości z typu sekwencyjnego z którego został pobrany:"
   ]
  },
  {
   "cell_type": "code",
   "execution_count": 22,
   "id": "0201183e",
   "metadata": {},
   "outputs": [
    {
     "name": "stdout",
     "output_type": "stream",
     "text": [
      "[1, 2, 3]\n"
     ]
    }
   ],
   "source": [
    "x = [1,2,3]\n",
    "for n in x:\n",
    "    n += 20\n",
    "print(x)"
   ]
  },
  {
   "cell_type": "markdown",
   "id": "3618b02d",
   "metadata": {},
   "source": [
    "#### Zagnieżdżanie pętli"
   ]
  },
  {
   "cell_type": "code",
   "execution_count": 23,
   "id": "ccfa4d17",
   "metadata": {
    "scrolled": true
   },
   "outputs": [
    {
     "name": "stdout",
     "output_type": "stream",
     "text": [
      "1\n",
      "4\n",
      "5\n",
      "6\n",
      "2\n",
      "4\n",
      "5\n",
      "6\n",
      "3\n",
      "4\n",
      "5\n",
      "6\n"
     ]
    }
   ],
   "source": [
    "x = [1,2,3]\n",
    "y = [4,5,6]\n",
    "for n in x:\n",
    "    print(n)\n",
    "    for m in y:\n",
    "        print(m)"
   ]
  },
  {
   "cell_type": "markdown",
   "id": "98cf7c06",
   "metadata": {},
   "source": [
    "### Ćwiczenie:\n",
    "\n",
    "Co zwróci poniższy kod?\n",
    "\n",
    "    for i in range(1,20):\n",
    "        if i%2 == 0:\n",
    "            print(i)"
   ]
  },
  {
   "cell_type": "markdown",
   "id": "3a83f187",
   "metadata": {},
   "source": [
    "### Ćwiczenie:\n",
    "\n",
    "Jak będzie wartość zmiennej 'licznik' po wykonaniu całego kodu?\n",
    "\n",
    "    licznik = 0\n",
    "    \n",
    "    for n in [0,1,2]:\n",
    "        for k in [0,1,2]:\n",
    "            licznik = licznik + 1\n"
   ]
  },
  {
   "cell_type": "markdown",
   "id": "6853542e",
   "metadata": {},
   "source": [
    "## Pętla while\n",
    "\n",
    "Pętla for wykonuje się dopóki sekwencja nie dobiegnie końca. Pętla while wykonuje się dopóki podany warunek jest spełniony.\n",
    "\n",
    "Konstrukcja\n",
    "\n",
    "while <i> warunek </i>:\n",
    "\n",
    "    ~rób coś~"
   ]
  },
  {
   "cell_type": "code",
   "execution_count": 24,
   "id": "6152612e",
   "metadata": {},
   "outputs": [
    {
     "name": "stdout",
     "output_type": "stream",
     "text": [
      "1\n",
      "2\n",
      "3\n",
      "4\n",
      "5\n"
     ]
    }
   ],
   "source": [
    "i = 0\n",
    "while i < 5:\n",
    "    i += 1\n",
    "    print(i)"
   ]
  },
  {
   "cell_type": "code",
   "execution_count": 25,
   "id": "ce2cf977",
   "metadata": {},
   "outputs": [
    {
     "name": "stdout",
     "output_type": "stream",
     "text": [
      "11\n",
      "10\n"
     ]
    }
   ],
   "source": [
    "i = 12\n",
    "while i > 10:\n",
    "    #12, 11\n",
    "    i -= 1 #11, 10\n",
    "    print(i) #11, 10"
   ]
  },
  {
   "cell_type": "markdown",
   "id": "e026458a",
   "metadata": {},
   "source": [
    "Należy uważać, gdyż warunek może nie zostać spełniony nigdy, a kod utknie w pętli!"
   ]
  },
  {
   "cell_type": "code",
   "execution_count": 26,
   "id": "7eb4958f",
   "metadata": {},
   "outputs": [],
   "source": [
    "#TU PRZYKŁAD NIESKOŃCZONEJ PĘTLI"
   ]
  },
  {
   "cell_type": "markdown",
   "id": "dd84da36",
   "metadata": {},
   "source": [
    "## Ćwiczenie:\n",
    "\n",
    "Który kod będzie poprawnym rozwiązaniem zadania \"Napisz kod, który zwiększa liczbę, dopóki nie będzie ona podzielna przez 5? Zdefiniuj liczbę jako n = 1\"\n",
    "\n",
    "    A.\n",
    "    n = 1\n",
    "    while n%5 == 0:\n",
    "        n += 1\n",
    "        \n",
    "    B.\n",
    "    n = 1\n",
    "    while n%5 != 0:\n",
    "        n += 1\n",
    "        \n",
    "    C.\n",
    "    n = 1\n",
    "    while True:\n",
    "        if n % 5 == 0:\n",
    "            print(n)\n",
    "            \n",
    "    D.\n",
    "    n = 1\n",
    "    for n in range(10):\n",
    "        n += 1\n",
    "        if n % 5 == 0:\n",
    "            print(n)"
   ]
  },
  {
   "cell_type": "markdown",
   "id": "23d491c2",
   "metadata": {},
   "source": [
    "## Operatory dodatkowe w kodach podrzędnych\n",
    "\n",
    "### pass, break, continue\n",
    "\n",
    "#### pass\n",
    "\n",
    "To pusty kod, nie wykonuje żadnej operacji. Ma dwa główne zastosowania:\n",
    "\n",
    "Jako 'trzymacz miejsca':"
   ]
  },
  {
   "cell_type": "code",
   "execution_count": 27,
   "id": "45bc4f35",
   "metadata": {},
   "outputs": [
    {
     "ename": "IndentationError",
     "evalue": "expected an indented block (3824879857.py, line 2)",
     "output_type": "error",
     "traceback": [
      "\u001b[1;36m  Input \u001b[1;32mIn [27]\u001b[1;36m\u001b[0m\n\u001b[1;33m    \u001b[0m\n\u001b[1;37m    ^\u001b[0m\n\u001b[1;31mIndentationError\u001b[0m\u001b[1;31m:\u001b[0m expected an indented block\n"
     ]
    }
   ],
   "source": [
    "for n in range(10):\n",
    "    "
   ]
  },
  {
   "cell_type": "code",
   "execution_count": null,
   "id": "c7fc6d51",
   "metadata": {},
   "outputs": [],
   "source": [
    "for n in range(10):\n",
    "    pass # jeszcze nie wiem co tu będę kodował, ale nie chcę mieć błędu"
   ]
  },
  {
   "cell_type": "markdown",
   "id": "0fd77eea",
   "metadata": {},
   "source": [
    "oraz gdy chcemy żeby gdzieś nic faktycznie się nie wykonało:"
   ]
  },
  {
   "cell_type": "code",
   "execution_count": null,
   "id": "a5d07ff9",
   "metadata": {},
   "outputs": [],
   "source": [
    "a = 3\n",
    "b = 10\n",
    "if a < b:\n",
    "    pass\n",
    "else:\n",
    "    print(\"ale to się nie wyświetli\")"
   ]
  },
  {
   "cell_type": "markdown",
   "id": "3d43ece5",
   "metadata": {},
   "source": [
    "### break\n",
    "\n",
    "Zatrzymuje wykonywanie operacji. Przydanty szczególnie w pętlach (szczególnie w while):"
   ]
  },
  {
   "cell_type": "code",
   "execution_count": null,
   "id": "6281f4db",
   "metadata": {},
   "outputs": [],
   "source": [
    "for i in range(0,10): #break przerywa sekwencję\n",
    "    if i > 5:\n",
    "        break\n",
    "    print(i)"
   ]
  },
  {
   "cell_type": "code",
   "execution_count": null,
   "id": "bdb0e52a",
   "metadata": {},
   "outputs": [],
   "source": [
    "b = 10\n",
    "for n in range(10000000):\n",
    "    b += 1\n",
    "    print(n,b)\n",
    "    if b > 15:\n",
    "        print(\"Warunek spełniono\")\n",
    "        break"
   ]
  },
  {
   "cell_type": "markdown",
   "id": "b85dc528",
   "metadata": {},
   "source": [
    "#### continue\n",
    "\n",
    "Przydatny szczególnie w pętlach, działa podobnie do break, ale wraca na początek pętli"
   ]
  },
  {
   "cell_type": "code",
   "execution_count": null,
   "id": "538418bf",
   "metadata": {},
   "outputs": [],
   "source": [
    "for i in range(5):\n",
    "    if i%2 == 0:\n",
    "        continue\n",
    "    else:\n",
    "        print('nieparzysta',i)"
   ]
  },
  {
   "cell_type": "markdown",
   "id": "32e6895e",
   "metadata": {},
   "source": [
    "#### continue vs pass"
   ]
  },
  {
   "cell_type": "code",
   "execution_count": null,
   "id": "ca214eb7",
   "metadata": {},
   "outputs": [],
   "source": [
    "for i in range(2,5): #continue wraca na początek pętli\n",
    "    if i%2 == 0:\n",
    "        continue\n",
    "    else:\n",
    "        print('nieparzysta',i)\n",
    "    print(\"KONIEC\")"
   ]
  },
  {
   "cell_type": "code",
   "execution_count": null,
   "id": "10efd98a",
   "metadata": {},
   "outputs": [],
   "source": [
    "for i in range(2,5): #pass kontunuuje kod (ale w tym wypadku opuszcza już if)\n",
    "    if i%2 == 0:\n",
    "        pass\n",
    "    else:\n",
    "        print('nieparzysta',i)\n",
    "    print(\"KONIEC\")"
   ]
  }
 ],
 "metadata": {
  "kernelspec": {
   "display_name": "Python 3 (ipykernel)",
   "language": "python",
   "name": "python3"
  },
  "language_info": {
   "codemirror_mode": {
    "name": "ipython",
    "version": 3
   },
   "file_extension": ".py",
   "mimetype": "text/x-python",
   "name": "python",
   "nbconvert_exporter": "python",
   "pygments_lexer": "ipython3",
   "version": "3.9.12"
  }
 },
 "nbformat": 4,
 "nbformat_minor": 5
}