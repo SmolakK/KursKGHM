{
 "cells": [
  {
   "cell_type": "markdown",
   "id": "13b082bb",
   "metadata": {},
   "source": [
    "# Dodatek 2. Jak rozwiązywać swoje problemy szybciej i lepiej?"
   ]
  },
  {
   "cell_type": "markdown",
   "id": "0885b76c",
   "metadata": {},
   "source": [
    "Często podczas programowania napotkamy jakieś problemy:\n",
    "\n",
    "    Kod będzie zwracał błąd (SyntaxError, AtributeError, KeyError, itp.)\n",
    "    Wynik będzie niepoprawny\n",
    "    Będziemy mieli problem z wyobrażeniem sobie jak powinno coś zostać zaimplementowane\n",
    "    Kod będzie wolno się wykonywał\n",
    "    ...\n",
    "    \n",
    "W trakcie pisania kodu nie musimy rozwiązywać problemów samemu. Jest wiele narzędzi i źródeł, które pomogą nam nasze problemy rozwiązać.\n",
    "\n",
    "Na wyróżnienie zasługują dwa główne narzędzia:"
   ]
  },
  {
   "cell_type": "markdown",
   "id": "9dfd3dba",
   "metadata": {},
   "source": [
    "## stackoverflow\n",
    "\n",
    "To forum internetowe, gdzie prawdopodobnie ktoś miał już Twój problem. Po prostu wpisz w wyszukiwarkę swój problem (po angielsku!) lub skopiuj treść błędu i sprawdź czy ktoś na StackOverflow już tego problemu nie rozwiązał.\n",
    "\n",
    "Najwyżej punktowana odpowiedź jest zaraz pod pytaniem.\n",
    "\n",
    "Link do forum: https://stackoverflow.com/"
   ]
  },
  {
   "cell_type": "markdown",
   "id": "4a0c856a",
   "metadata": {},
   "source": [
    "Skopiujmy na przykład komunikat poniższego błędu:"
   ]
  },
  {
   "cell_type": "code",
   "execution_count": 1,
   "id": "e2e75631",
   "metadata": {},
   "outputs": [
    {
     "ename": "TypeError",
     "evalue": "unsupported operand type(s) for +: 'int' and 'str'",
     "output_type": "error",
     "traceback": [
      "\u001b[1;31m---------------------------------------------------------------------------\u001b[0m",
      "\u001b[1;31mTypeError\u001b[0m                                 Traceback (most recent call last)",
      "Input \u001b[1;32mIn [1]\u001b[0m, in \u001b[0;36m<cell line: 1>\u001b[1;34m()\u001b[0m\n\u001b[1;32m----> 1\u001b[0m \u001b[38;5;241;43m22\u001b[39;49m\u001b[43m \u001b[49m\u001b[38;5;241;43m+\u001b[39;49m\u001b[43m \u001b[49m\u001b[38;5;124;43m\"\u001b[39;49m\u001b[38;5;124;43m2\u001b[39;49m\u001b[38;5;124;43m\"\u001b[39;49m\n",
      "\u001b[1;31mTypeError\u001b[0m: unsupported operand type(s) for +: 'int' and 'str'"
     ]
    }
   ],
   "source": [
    "22 + \"2\""
   ]
  },
  {
   "cell_type": "markdown",
   "id": "6da230b0",
   "metadata": {},
   "source": [
    "## Narzędzia typu LLM\n",
    "\n",
    "Czyli duże modele językowe, w tym znany już ChatGPT.\n",
    "ChatGPT jest świetny w rozwiązywaniu problemów w kodzie i jego optymalizacji.\n",
    "Link: https://chat.openai.com/\n",
    "\n",
    "Sprawdźmy jak ChatGPT rozwiąże problem w poniższym kodzie:"
   ]
  },
  {
   "cell_type": "code",
   "execution_count": 2,
   "id": "3467fa6e",
   "metadata": {},
   "outputs": [],
   "source": [
    "for n in range(10):\n",
    "    i = 0\n",
    "    i += 1\n",
    "    if i % 2 == 0:\n",
    "        print(i)"
   ]
  }
 ],
 "metadata": {
  "kernelspec": {
   "display_name": "Python 3 (ipykernel)",
   "language": "python",
   "name": "python3"
  },
  "language_info": {
   "codemirror_mode": {
    "name": "ipython",
    "version": 3
   },
   "file_extension": ".py",
   "mimetype": "text/x-python",
   "name": "python",
   "nbconvert_exporter": "python",
   "pygments_lexer": "ipython3",
   "version": "3.9.12"
  }
 },
 "nbformat": 4,
 "nbformat_minor": 5
}